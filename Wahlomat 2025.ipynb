{
 "cells": [
  {
   "cell_type": "markdown",
   "id": "527ec230-afeb-4734-a4c2-52465297209c",
   "metadata": {},
   "source": [
    "## import Wahlomat dataset\n",
    "A scientific public analysis with dataset from \n",
    "[Wahlomat 2025 data source](https://www.bpb.de/themen/wahl-o-mat/bundestagswahl-2025/558463/download/)"
   ]
  },
  {
   "cell_type": "code",
   "execution_count": null,
   "id": "e007dafd-a822-4761-8811-d49bf058fa33",
   "metadata": {},
   "outputs": [],
   "source": [
    "import pandas as pd\n",
    "import numpy as np\n",
    "import seaborn as sns # corr heatmap\n",
    "import matplotlib.pyplot as plt\n",
    "from sklearn.decomposition import PCA # PCA chart\n",
    "from ipywidgets import interact # for slider \n",
    "import ipywidgets as widgets\n",
    "from ipywidgets import interactive\n",
    "import zipfile\n",
    "import os\n",
    "os.makedirs(\"img\", exist_ok=True) # create new directory \"img\" to hold images"
   ]
  },
  {
   "cell_type": "markdown",
   "id": "5a32fcfa-02c0-4dd1-b61f-9db77dad0820",
   "metadata": {},
   "source": [
    "### download Wahl-O-Mat_Bundestagswahl dataset from www.bpb.de and unzip the file in a new directory"
   ]
  },
  {
   "cell_type": "code",
   "execution_count": null,
   "id": "53fc4611-e2e7-41f3-93b4-fffc28e24829",
   "metadata": {},
   "outputs": [],
   "source": [
    "!curl -o Wahl-O-Mat_Bundestagswahl_2025.zip https://www.bpb.de/system/files/datei/Wahl-O-Mat_Bundestagswahl_2025_Datensatz_v1.01.zip\n",
    "\n",
    "zip_path = \"Wahl-O-Mat_Bundestagswahl_2025.zip\"\n",
    "extract_folder = \"data\"\n",
    "\n",
    "# Extract the ZIP file\n",
    "with zipfile.ZipFile(zip_path, 'r') as zip_ref:\n",
    "    zip_ref.extractall(extract_folder)\n",
    "\n",
    "# List the extracted files\n",
    "os.listdir(extract_folder)\n",
    "\n",
    "# remove zip file after unzipping\n",
    "os.remove(zip_path)\n"
   ]
  },
  {
   "cell_type": "markdown",
   "id": "78d45505-e4fb-409e-89c9-1fcc8f254f3c",
   "metadata": {},
   "source": [
    "### read dataset from Excel file and pivot it"
   ]
  },
  {
   "cell_type": "code",
   "execution_count": null,
   "id": "c9263743-7ae9-4d90-b877-a06704af46d1",
   "metadata": {},
   "outputs": [],
   "source": [
    "df = pd.read_excel(\n",
    "    'data/Wahl-O-Mat Bundestagswahl 2025_Datensatz_v1.01.xlsx',\n",
    "     sheet_name='Datensatz BTW 2025',\n",
    "     usecols=['Partei: Kurzbezeichnung', 'These: Nr.', 'Position: Position'],\n",
    "     index_col='Partei: Kurzbezeichnung',\n",
    "     converters={'Position: Position': lambda x: {'stimme zu': 1, 'neutral': 0, 'stimme nicht zu': -1}.get(x)},\n",
    "     header=0\n",
    ")\n",
    "pivot_df = pd.pivot_table(\n",
    "    df,\n",
    "    index='Partei: Kurzbezeichnung',\n",
    "    columns='These: Nr.',\n",
    "    values='Position: Position',\n",
    "    aggfunc='first'\n",
    ").drop('Verjüngungsforschung')"
   ]
  },
  {
   "cell_type": "markdown",
   "id": "cb2d0020-fab9-448b-90df-d8a140489a14",
   "metadata": {},
   "source": [
    "### explore raw dataset "
   ]
  },
  {
   "cell_type": "code",
   "execution_count": null,
   "id": "48bc497c-9693-4b70-827c-64d1a6ac3029",
   "metadata": {},
   "outputs": [],
   "source": [
    "#df.head()\n",
    "#df.shape\n",
    "#df.columns\n",
    "#df.info()\n",
    "pivot_df.head()\n",
    "#pivot_df.T.corr()\n",
    "#pivot_df.info()\n"
   ]
  },
  {
   "cell_type": "markdown",
   "id": "11780933-c6a1-4689-8746-af2c1aa30bd2",
   "metadata": {},
   "source": [
    "### create correlation matrix, generate a heatmap (sorted by avg)"
   ]
  },
  {
   "cell_type": "code",
   "execution_count": null,
   "id": "f0e1fcbc-7082-46a4-b875-9125e9fadbeb",
   "metadata": {},
   "outputs": [],
   "source": [
    "# Compute the correlation matrix\n",
    "corr_matrix = pivot_df.T.corr()\n",
    "\n",
    "# Sort the correlation matrix by average correlation\n",
    "sorted_indices = corr_matrix.mean().sort_values(ascending=False).index\n",
    "sorted_corr_matrix = corr_matrix.loc[sorted_indices, sorted_indices]\n",
    "\n",
    "# Create a mask to hide the lower triangle\n",
    "mask = np.tril(np.ones_like(sorted_corr_matrix, dtype=bool))\n",
    "\n",
    "# Plot the heatmap\n",
    "plt.figure(figsize=(12, 8))\n",
    "sns.heatmap(sorted_corr_matrix, \n",
    "            mask=mask,  # Apply mask to hide lower triangle\n",
    "            cmap=\"coolwarm_r\", \n",
    "            annot=True, \n",
    "            fmt=\".2f\", \n",
    "            center=0,\n",
    "            linewidths=0.5, \n",
    "            cbar=True)\n",
    "\n",
    "plt.title(\"Zustimmungsähnlichkeit der Parteien (Obere Dreiecksmatrix)\")\n",
    "plt.xlabel(\"\")\n",
    "plt.ylabel(\"\")\n",
    "\n",
    "# Saves the figure and show it\n",
    "plt.savefig(\"img/Zustimmungsähnlichkeit.png\", dpi=300, bbox_inches=\"tight\")  \n",
    "plt.show()\n"
   ]
  },
  {
   "cell_type": "markdown",
   "id": "67537e38-166a-482a-8aaf-b305252eedb3",
   "metadata": {},
   "source": [
    "### PCA analysis of the pivoted dataset (2D)"
   ]
  },
  {
   "cell_type": "code",
   "execution_count": null,
   "id": "881c5339-c20a-43a9-83fa-78b7c5d49907",
   "metadata": {},
   "outputs": [],
   "source": [
    "# Perform PCA on the dataset (reduce to 2 dimensions)\n",
    "pca = PCA(n_components=2)\n",
    "pca_result = pca.fit_transform(pivot_df)\n",
    "\n",
    "# Create a DataFrame for PCA results\n",
    "pca_df = pd.DataFrame(pca_result, index=pivot_df.index, columns=[\"PC1\", \"PC2\"])\n",
    "\n",
    "# flip horizontally the PCA chart (since PC1 is somewhat mapped to the left/right party tendency)\n",
    "pca_df[\"PC1\"] *= -1\n",
    "\n",
    "# Define party colors based on extracted colors from image\n",
    "party_colors = {\n",
    "    \"CDU / CSU\": \"#000000\",  # Black\n",
    "    \"AfD\": \"#0047AB\",  # Dark Blue\n",
    "    \"SPD\": \"#E3001B\",  # Red\n",
    "    \"GRÜNE\": \"#1A7F22\",  # Green\n",
    "    \"Die Linke\": \"#C60084\",  # Magenta/Pink\n",
    "    \"BSW\": \"#5E1D4D\",  # Dark Purple\n",
    "    \"FDP\": \"#FFD700\",  # Bright Yellow\n",
    "}\n",
    "\n",
    "# Plot PCA scatter plot\n",
    "plt.figure(figsize=(10, 7))\n",
    "\n",
    "# Plot all parties in gray by default\n",
    "for party, (x, y) in pca_df.iterrows():\n",
    "    color = party_colors.get(party, \"gray\")  # Use party color if available, else gray\n",
    "    size = 150 if party in party_colors else 50  # Make highlighted parties larger\n",
    "    fontweight = 'bold' if party in party_colors else 'normal'\n",
    "\n",
    "    plt.scatter(x, y, color=color, s=size, alpha=0.7)\n",
    "    plt.text(x, y, party, fontsize=10, fontweight=fontweight, ha='right', color=color)\n",
    "\n",
    "# Add vectors for selected parties with shorter arrows\n",
    "origin = np.zeros((len(party_colors), 2))  # Origin for vectors\n",
    "vectors = np.array([pca_df.loc[party] for party in party_colors if party in pca_df.index])\n",
    "\n",
    "for (x, y), party in zip(vectors, party_colors.keys()):\n",
    "    plt.arrow(0, 0, x * 0.5, y * 0.5, color=party_colors[party], alpha=0.7, width=0.01, head_width=0.1)\n",
    "\n",
    "# Labels and grid\n",
    "plt.xlabel(\"Hauptkomponente 1\")\n",
    "plt.ylabel(\"Hauptkomponente 2\")\n",
    "plt.title(\"Clustering der Parteien nach Positionen – Parteien mit ähnlicher Meinung stehen nah beieinander\")\n",
    "plt.axhline(0, color='black', linewidth=0.5)\n",
    "plt.axvline(0, color='black', linewidth=0.5)\n",
    "plt.grid(True, linestyle='--', alpha=0.6)\n",
    "\n",
    "# Saves the figure and show it\n",
    "plt.savefig(\"img/Clustering der Parteien nach Positionen.png\", dpi=300, bbox_inches=\"tight\")  # Saves the figure\n",
    "plt.show()"
   ]
  },
  {
   "cell_type": "markdown",
   "id": "9290dc73-bad2-4fe9-a13e-bbfd9a87b7e4",
   "metadata": {},
   "source": [
    "### PCA in 3D"
   ]
  },
  {
   "cell_type": "code",
   "execution_count": null,
   "id": "8896090e-2266-4f32-afd2-cdbf5b352faa",
   "metadata": {},
   "outputs": [],
   "source": [
    "import numpy as np\n",
    "import pandas as pd\n",
    "import matplotlib.pyplot as plt\n",
    "from matplotlib.animation import FuncAnimation\n",
    "from sklearn.decomposition import PCA\n",
    "from mpl_toolkits.mplot3d import Axes3D\n",
    "\n",
    "# Perform PCA with 3 components\n",
    "pca_3d = PCA(n_components=3)\n",
    "pca_result_3d = pca_3d.fit_transform(pivot_df)\n",
    "\n",
    "# Create DataFrame for PCA results\n",
    "pca_df_3d = pd.DataFrame(pca_result_3d, index=pivot_df.index, columns=[\"PC1\", \"PC2\", \"PC3\"])\n",
    "\n",
    "# flip horizontally the PCA chart (since PC1 is somewhat mapped to the left/right party tendency)\n",
    "pca_df_3d[\"PC1\"] *= -1\n",
    "\n",
    "# Define party colors\n",
    "party_colors = {\n",
    "    \"CDU / CSU\": \"#000000\",  # Black\n",
    "    \"AfD\": \"#0047AB\",  # Dark Blue\n",
    "    \"SPD\": \"#E3001B\",  # Red\n",
    "    \"GRÜNE\": \"#1A7F22\",  # Green\n",
    "    \"Die Linke\": \"#C60084\",  # Magenta/Pink\n",
    "    \"BSW\": \"#5E1D4D\",  # Dark Purple\n",
    "    \"FDP\": \"#FFD700\",  # Bright Yellow\n",
    "}\n",
    "\n",
    "# Create 3D figure\n",
    "fig = plt.figure(figsize=(10, 7))\n",
    "ax = fig.add_subplot(111, projection='3d')\n",
    "\n",
    "# Adjust bubble sizes based on perspective depth (z-axis position)\n",
    "z_values = pca_df_3d[\"PC3\"].values\n",
    "min_z, max_z = min(z_values), max(z_values)\n",
    "scaled_sizes = 50 + 200 * (z_values - min_z) / (max_z - min_z)\n",
    "\n",
    "# Plot all parties\n",
    "scatters = []\n",
    "for (party, (x, y, z), size) in zip(pca_df_3d.index, pca_df_3d.values, scaled_sizes):\n",
    "    color = party_colors.get(party, \"gray\")\n",
    "    fontweight = 'bold' if party in party_colors else 'normal'\n",
    "    scatter = ax.scatter(x, y, z, color=color, s=size, alpha=0.7)\n",
    "    ax.text(x, y, z, party, fontsize=10, fontweight=fontweight, color=color)\n",
    "    scatters.append(scatter)\n",
    "\n",
    "# Labels and grid\n",
    "ax.set_xlabel(\"Hauptkomponente 1\")\n",
    "ax.set_ylabel(\"Hauptkomponente 2\")\n",
    "ax.set_zlabel(\"Hauptkomponente 3\")\n",
    "ax.set_title(f\"PCA 3D-Clustering der Parteien – Erklärte Varianz: {sum(pca_3d.explained_variance_ratio_) * 100:.2f}%\")\n",
    "\n",
    "# Function to rotate the 3D plot\n",
    "def update(frame):\n",
    "    ax.view_init(elev=20, azim=frame)\n",
    "    return scatters\n",
    "\n",
    "# Create animation\n",
    "ani = FuncAnimation(fig, update, frames=np.arange(0, 360, 2), interval=50)\n",
    "\n",
    "# Save animation as a GIF (optional, uncomment if needed)\n",
    "ani.save(\"img/PCA_3D_Clustering.gif\", writer=\"pillow\", fps=20)\n",
    "\n",
    "plt.show()\n"
   ]
  },
  {
   "cell_type": "markdown",
   "id": "38a208b9-9cfe-4853-92c5-c6e2be4fae13",
   "metadata": {},
   "source": [
    "### Verteilung der Parteipositionen"
   ]
  },
  {
   "cell_type": "code",
   "execution_count": null,
   "id": "589c3b6f-d726-4bc0-80e1-4fab1e7c76d3",
   "metadata": {},
   "outputs": [],
   "source": [
    "plt.figure(figsize=(10, 5))\n",
    "pivot_df.stack().value_counts().sort_index().plot(kind=\"bar\", color=[\"red\", \"gray\", \"blue\"])\n",
    "plt.xticks(ticks=[0, 1, 2], labels=[\"-1 (Ablehnung)\", \"0 (Neutral)\", \"1 (Zustimmung)\"], rotation=0)\n",
    "plt.xlabel(\"Antwortwert\")\n",
    "plt.ylabel(\"Anzahl\")\n",
    "plt.title(\"Verteilung der Parteipositionen über alle Thesen\")\n",
    "\n",
    "# Saves the figure and show it\n",
    "plt.savefig(\"img/Verteilung der Parteipositionen.png\", dpi=300, bbox_inches=\"tight\")  # Saves the figure\n",
    "plt.show()\n"
   ]
  },
  {
   "cell_type": "markdown",
   "id": "9b48ca12-0b7a-480c-9193-81f651b73d32",
   "metadata": {},
   "source": [
    "### party positions by These (interactive view)"
   ]
  },
  {
   "cell_type": "code",
   "execution_count": null,
   "id": "8e5e85e4-e0cf-479d-94a9-6009e7e7dd83",
   "metadata": {},
   "outputs": [],
   "source": [
    "import plotly.express as px\n",
    "\n",
    "def plot_party_positions(topic_index):\n",
    "    df = pivot_df.iloc[:, topic_index].reset_index()\n",
    "    df.columns = [\"Partei\", \"Antwortwert\"]\n",
    "    \n",
    "    fig = px.bar(df, x=\"Partei\", y=\"Antwortwert\", \n",
    "                 title=f\"Parteipositionen zur These {topic_index+1}\", \n",
    "                 color=\"Partei\")\n",
    "    fig.show()\n",
    "\n",
    "while True:\n",
    "    try:\n",
    "        topic_index = int(input(f\"Enter a topic index (0 - {pivot_df.shape[1]-1}): \"))\n",
    "        if 0 <= topic_index < pivot_df.shape[1]:\n",
    "            plot_party_positions(topic_index)\n",
    "        else:\n",
    "            print(\"Index out of range.\")\n",
    "    except ValueError:\n",
    "        print(\"Please enter a valid integer.\")\n"
   ]
  },
  {
   "cell_type": "markdown",
   "id": "577b4020-98fe-4274-a1f4-bfff73063767",
   "metadata": {},
   "source": [
    "### explained variability by number of PCA components"
   ]
  },
  {
   "cell_type": "code",
   "execution_count": null,
   "id": "e076942e-ed5d-4888-815d-f73007c30007",
   "metadata": {},
   "outputs": [],
   "source": [
    "import numpy as np\n",
    "import pandas as pd\n",
    "import seaborn as sns\n",
    "import matplotlib.pyplot as plt\n",
    "from sklearn.decomposition import PCA\n",
    "from mpl_toolkits.mplot3d import Axes3D\n",
    "\n",
    "# Perform PCA for multiple components\n",
    "num_components = min(pivot_df.shape[1], 10)  # Limit to 10 components for visualization\n",
    "pca_full = PCA(n_components=num_components)\n",
    "pca_full.fit(pivot_df)\n",
    "\n",
    "# Calculate explained variance\n",
    "explained_variance = np.cumsum(pca_full.explained_variance_ratio_) * 100\n",
    "\n",
    "# Plot variance explained by increasing PCA components\n",
    "plt.figure(figsize=(10, 5))\n",
    "plt.plot(range(1, num_components + 1), explained_variance, marker='o', linestyle='-')\n",
    "plt.xlabel(\"Anzahl der Hauptkomponenten\")\n",
    "plt.ylabel(\"Kumulierte erklärte Varianz (%)\")\n",
    "plt.title(\"Erklärte Varianz durch zunehmende Hauptkomponenten\")\n",
    "plt.grid(True, linestyle='--', alpha=0.6)\n",
    "plt.savefig(\"img/Erklaerte_Varianz_PCA.png\", dpi=300, bbox_inches=\"tight\")\n",
    "plt.show()\n"
   ]
  },
  {
   "cell_type": "code",
   "execution_count": null,
   "id": "ffc834dc-2e3f-4bc9-8e3f-5b8eb6a3e8a7",
   "metadata": {},
   "outputs": [],
   "source": []
  }
 ],
 "metadata": {
  "kernelspec": {
   "display_name": "Python 3",
   "language": "python",
   "name": "python3"
  },
  "language_info": {
   "codemirror_mode": {
    "name": "ipython",
    "version": 3
   },
   "file_extension": ".py",
   "mimetype": "text/x-python",
   "name": "python",
   "nbconvert_exporter": "python",
   "pygments_lexer": "ipython3",
   "version": "3.12.7"
  }
 },
 "nbformat": 4,
 "nbformat_minor": 5
}
